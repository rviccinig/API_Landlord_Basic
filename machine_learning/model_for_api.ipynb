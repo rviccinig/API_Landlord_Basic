{
 "cells": [
  {
   "cell_type": "code",
   "execution_count": 76,
   "metadata": {},
   "outputs": [
    {
     "data": {
      "text/plain": [
       "array([    0, 16500,     0,     0,     0, 45763, 14581, 32602,     0,\n",
       "        8510,  5312,  3897, 22800, 16718, 68080,     0,     0,  2491,\n",
       "           0, 27136,     0,     0,     0,     0,     0,  5000,     0,\n",
       "       38248,  3093,     0, 15282,     0,     0,     0,  6029,     0,\n",
       "       23832,  1807,     0, 28857, 43584,  5883, 49656,  5047,     0,\n",
       "       28056, 12500,     0,     0,  7000,     0,     0,  3702,     0,\n",
       "       11208,     0,     0,  8028, 11707,  3450,  4490,     0,     0,\n",
       "       27963,     0,     0,  8260, 53795, 35821, 40843,     0, 10763,\n",
       "        3642,  1618,  2408,  5591, 21495,     0,     0,     0,  3018,\n",
       "           0,  9190, 13561,     0,  3396, 21795,     0, 30176, 44645,\n",
       "        5813,     0, 64243,     0, 60971,  5898,  8000, 22656, 12248,\n",
       "           0,  5000, 24927,  5296,  1902, 17192,     0,     0, 78315,\n",
       "       14895,     0, 15357, 21172,     0,  9165,  8358,     0,     0,\n",
       "        9096, 14922, 29153,     0,  3090, 35363,  2648,  6780,  3689,\n",
       "           0,  7947,     0,     0,     0,  5278,     0,     0,  7644,\n",
       "        1040,     0,  3872,  4715, 42779, 50679,  3606,     0,     0,\n",
       "           0, 10880, 27902])"
      ]
     },
     "execution_count": 76,
     "metadata": {},
     "output_type": "execute_result"
    }
   ],
   "source": [
    "import pandas as pd\n",
    "import numpy as np\n",
    "from sklearn import linear_model\n",
    "\n",
    "# Loading the dataset\n",
    "dataFrame= pd.read_csv(\"/home/rviccinig/Desktop/Landlord_API/database/Properties_Beltline.csv\")\n",
    "dataFrame = pd.get_dummies(dataFrame, columns=['bldg_class'], prefix='', prefix_sep='')\n",
    "dataFrame\n",
    "#Putting the columns as numpy \n",
    "#class_b=dataFrame['size']\n",
    "X=dataFrame[[\"size\",\"A\",\"B\",\"C\"]].to_numpy(dtype='int')\n",
    "available_s=dataFrame['available_area'].to_numpy(dtype='int')\n",
    "available_s\n",
    "#array.reshape(-1, 1)"
   ]
  },
  {
   "cell_type": "code",
   "execution_count": 77,
   "metadata": {},
   "outputs": [
    {
     "data": {
      "text/plain": [
       "LinearRegression()"
      ]
     },
     "execution_count": 77,
     "metadata": {},
     "output_type": "execute_result"
    }
   ],
   "source": [
    "#Create Linear Regression Objeto\n",
    "regr = linear_model.LinearRegression()\n",
    "regr.fit(X,available_s)"
   ]
  },
  {
   "cell_type": "code",
   "execution_count": 80,
   "metadata": {},
   "outputs": [
    {
     "data": {
      "text/plain": [
       "array([ 1.58489840e-01,  1.20531815e+03,  5.17247986e+02, -1.72256614e+03])"
      ]
     },
     "execution_count": 80,
     "metadata": {},
     "output_type": "execute_result"
    }
   ],
   "source": [
    "regr.coef_"
   ]
  },
  {
   "cell_type": "code",
   "execution_count": 81,
   "metadata": {},
   "outputs": [],
   "source": [
    "import pickle\n",
    "\n",
    "# Save to file in the current working directory\n",
    "pkl_filename = \"regression_vacancy_prediction.pkl\"\n",
    "with open(pkl_filename, 'wb') as file:\n",
    "    pickle.dump(regr, file)\n",
    "\n",
    "# Load from file\n",
    "#with open(pkl_filename, 'rb') as file:\n",
    "#    pickle_model = pickle.load(file)\n",
    "    \n",
    "# Calculate the accuracy score and predict target values\n",
    "#score = pickle_model.score(Xtest, Ytest)\n",
    "#print(\"Test score: {0:.2f} %\".format(100 * score))\n",
    "#Ypredict = pickle_model.predict(Xtest)"
   ]
  },
  {
   "cell_type": "code",
   "execution_count": null,
   "metadata": {},
   "outputs": [],
   "source": []
  }
 ],
 "metadata": {
  "kernelspec": {
   "display_name": "Python 3",
   "language": "python",
   "name": "python3"
  },
  "language_info": {
   "codemirror_mode": {
    "name": "ipython",
    "version": 3
   },
   "file_extension": ".py",
   "mimetype": "text/x-python",
   "name": "python",
   "nbconvert_exporter": "python",
   "pygments_lexer": "ipython3",
   "version": "3.8.5"
  }
 },
 "nbformat": 4,
 "nbformat_minor": 4
}
